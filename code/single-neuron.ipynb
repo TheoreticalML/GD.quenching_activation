{
 "cells": [
  {
   "cell_type": "code",
   "execution_count": 65,
   "metadata": {},
   "outputs": [],
   "source": [
    "import torch\n",
    "import torch.optim as optim\n",
    "import matplotlib.pyplot as plt\n",
    "\n",
    "\n",
    "\n",
    "def get_data(n, d):\n",
    "    x = torch.randn(n, d)\n",
    "    y = torch.relu(x[:,0])\n",
    "    return x, y\n",
    "\n",
    "\n",
    "class Network(nn.Module):\n",
    "    def __init__(self, d, m, mf=False):\n",
    "        \"\"\"\n",
    "        INPUT: d   -> input dimension\n",
    "               m   -> the network width\n",
    "               mf  -> use the mean-field scaling if true \n",
    "        \"\"\"\n",
    "        super(Network, self).__init__()\n",
    "        a = torch.zeros(m)\n",
    "        B = torch.randn(d, m)\n",
    "        B /= B.norm(dim=0, keepdim=True)\n",
    "\n",
    "        self.a = nn.Parameter(a)\n",
    "        self.B = nn.Parameter(B)\n",
    "        \n",
    "        self.width = m\n",
    "        self.mf = mf\n",
    "\n",
    "    def forward(self, x):\n",
    "        Bx = x.matmul(self.B)\n",
    "        ac = torch.relu(Bx)\n",
    "        a_sigma_Bx = ac.matmul(self.a)\n",
    "        if self.mf:\n",
    "            a_sigma_Bx /= self.width\n",
    "            \n",
    "        return a_sigma_Bx.squeeze()\n",
    "    \n",
    "    \n",
    "def evaluate_loss(model, x, y):\n",
    "    \"\"\"\n",
    "    Calculate the quadratic loss\n",
    "    \"\"\"\n",
    "    y_p = model(x)\n",
    "    dy = y_p - y\n",
    "    loss = dy.pow(2).mean()\n",
    "    return loss"
   ]
  },
  {
   "cell_type": "markdown",
   "metadata": {},
   "source": [
    "## Experiment setting\n",
    "\n",
    "- $n=100$: the number of training samples\n",
    "- $d=10$: The input dimension\n",
    "- $m=20$: The network width\n",
    "\n",
    "Here we use Adam to speed up the training. The same phenomenon is also observed for GD. "
   ]
  },
  {
   "cell_type": "code",
   "execution_count": 92,
   "metadata": {},
   "outputs": [],
   "source": [
    "d = 10\n",
    "m = 20\n",
    "n_tr = 100   \n",
    "n_te = 10000\n",
    "\n",
    "x_tr, y_tr = get_data(n_tr, d)\n",
    "x_te, y_te = get_data(n_te, d)\n",
    "\n",
    "model = Network(d, m, mf=True)\n",
    "optimizer = torch.optim.Adam(model.parameters(), lr=5e-5*m)"
   ]
  },
  {
   "cell_type": "code",
   "execution_count": 93,
   "metadata": {},
   "outputs": [
    {
     "name": "stdout",
     "output_type": "stream",
     "text": [
      "0/12000, loss_tr: 5.9e-01, loss_te: 4.8e-01\n",
      "400/12000, loss_tr: 2.2e-01, loss_te: 2.4e-01\n",
      "800/12000, loss_tr: 5.9e-02, loss_te: 1.2e-01\n",
      "1200/12000, loss_tr: 9.8e-03, loss_te: 4.3e-02\n",
      "1600/12000, loss_tr: 2.3e-03, loss_te: 1.5e-02\n",
      "2000/12000, loss_tr: 8.8e-04, loss_te: 6.9e-03\n",
      "2400/12000, loss_tr: 4.4e-04, loss_te: 3.8e-03\n",
      "2800/12000, loss_tr: 2.4e-04, loss_te: 2.2e-03\n",
      "3200/12000, loss_tr: 1.2e-04, loss_te: 1.2e-03\n",
      "3600/12000, loss_tr: 4.4e-05, loss_te: 7.6e-04\n",
      "4000/12000, loss_tr: 1.6e-05, loss_te: 5.4e-04\n",
      "4400/12000, loss_tr: 7.0e-06, loss_te: 4.4e-04\n",
      "4800/12000, loss_tr: 3.3e-06, loss_te: 3.8e-04\n",
      "5200/12000, loss_tr: 1.7e-06, loss_te: 3.4e-04\n",
      "5600/12000, loss_tr: 7.8e-07, loss_te: 3.2e-04\n",
      "6000/12000, loss_tr: 3.5e-07, loss_te: 3.0e-04\n",
      "6400/12000, loss_tr: 1.5e-07, loss_te: 2.9e-04\n",
      "6800/12000, loss_tr: 5.7e-08, loss_te: 2.8e-04\n",
      "7200/12000, loss_tr: 2.2e-08, loss_te: 2.7e-04\n",
      "7600/12000, loss_tr: 8.4e-09, loss_te: 2.7e-04\n",
      "8000/12000, loss_tr: 3.2e-09, loss_te: 2.7e-04\n",
      "8400/12000, loss_tr: 1.1e-09, loss_te: 2.7e-04\n",
      "8800/12000, loss_tr: 3.0e-10, loss_te: 2.6e-04\n",
      "9200/12000, loss_tr: 6.3e-11, loss_te: 2.6e-04\n",
      "9600/12000, loss_tr: 9.7e-12, loss_te: 2.6e-04\n",
      "10000/12000, loss_tr: 1.0e-12, loss_te: 2.6e-04\n",
      "10400/12000, loss_tr: 6.3e-14, loss_te: 2.6e-04\n",
      "10800/12000, loss_tr: 4.4e-15, loss_te: 2.6e-04\n",
      "11200/12000, loss_tr: 4.4e-15, loss_te: 2.6e-04\n",
      "11600/12000, loss_tr: 2.9e-15, loss_te: 2.6e-04\n"
     ]
    }
   ],
   "source": [
    "nsteps = 12000\n",
    "loss_tr_traj = []\n",
    "loss_te_traj = []\n",
    "for i in range(nsteps):\n",
    "    optimizer.zero_grad()\n",
    "    loss_tr = evaluate_loss(model, x_tr, y_tr)\n",
    "    loss_tr.backward()\n",
    "    optimizer.step()\n",
    "    \n",
    "    if i%400 == 0:\n",
    "        loss_te = evaluate_loss(model, x_te, y_te)\n",
    "        print('{:}/{:}, loss_tr: {:.1e}, loss_te: {:.1e}'.\n",
    "              format(i, nsteps, loss_tr.item(), loss_te.item()))\n",
    "        loss_tr_traj.append(loss_tr.item())\n",
    "        loss_te_traj.append(loss_te.item())"
   ]
  },
  {
   "cell_type": "code",
   "execution_count": 94,
   "metadata": {},
   "outputs": [
    {
     "data": {
      "text/plain": [
       "Text(0, 0.5, 'Loss')"
      ]
     },
     "execution_count": 94,
     "metadata": {},
     "output_type": "execute_result"
    },
    {
     "data": {
      "image/png": "[encoded data removed]",
      "text/plain": [
       "<Figure size 432x288 with 1 Axes>"
      ]
     },
     "metadata": {
      "needs_background": "light"
     },
     "output_type": "display_data"
    }
   ],
   "source": [
    "plt.semilogy(loss_tr_traj,'-', label='train')\n",
    "plt.semilogy(loss_te_traj,'-', label='test')\n",
    "plt.legend(fontsize=20)\n",
    "plt.xlabel('# of iterations (x400)', fontsize=20)\n",
    "plt.ylabel('Loss', fontsize=20)"
   ]
  },
  {
   "cell_type": "code",
   "execution_count": null,
   "metadata": {},
   "outputs": [],
   "source": []
  }
 ],
 "metadata": {
  "kernelspec": {
   "display_name": "Python 3",
   "language": "python",
   "name": "python3"
  },
  "language_info": {
   "codemirror_mode": {
    "name": "ipython",
    "version": 3
   },
   "file_extension": ".py",
   "mimetype": "text/x-python",
   "name": "python",
   "nbconvert_exporter": "python",
   "pygments_lexer": "ipython3",
   "version": "3.7.4"
  }
 },
 "nbformat": 4,
 "nbformat_minor": 4
}
